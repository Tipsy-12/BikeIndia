{
  "metadata": {
    "kernelspec": {
      "language": "python",
      "display_name": "Python 3",
      "name": "python3"
    },
    "language_info": {
      "pygments_lexer": "ipython3",
      "nbconvert_exporter": "python",
      "version": "3.6.4",
      "file_extension": ".py",
      "codemirror_mode": {
        "name": "ipython",
        "version": 3
      },
      "name": "python",
      "mimetype": "text/x-python"
    },
    "colab": {
      "name": "Bike Sharing : Multiple Linear Regression",
      "provenance": []
    }
  },
  "nbformat_minor": 0,
  "nbformat": 4,
  "cells": [
    {
      "cell_type": "markdown",
      "source": [
        "# Multiple Linear Regression\n",
        "## Bike Sharing Assignment\n",
        "\n",
        "#### Problem Statement:\n",
        "\n",
        "A bike-sharing system is a service in which bikes are made available for shared use to individuals on a short term basis for a price or free. Many bike share systems allow people to borrow a bike from a \"dock\" which is usually computer-controlled wherein the user enters the payment information, and the system unlocks it. This bike can then be returned to another dock belonging to the same system.\n",
        "\n",
        "\n",
        "A US bike-sharing provider BikeIndia has recently suffered considerable dips in their revenues due to the ongoing Corona pandemic. The company is finding it very difficult to sustain in the current market scenario. So, it has decided to come up with a mindful business plan to be able to accelerate its revenue as soon as the ongoing lockdown comes to an end, and the economy restores to a healthy state.\n",
        "\n",
        "\n",
        "In such an attempt, **BikeIndia** aspires to understand the demand for shared bikes among the people after this ongoing quarantine situation ends across the nation due to Covid-19. They have planned this to prepare themselves to cater to the people's needs once the situation gets better all around and stand out from other service providers and make huge profits.\n",
        "\n",
        "\n",
        "They have contracted a consulting company to understand the factors on which the demand for these shared bikes depends. Specifically, they want to understand the factors affecting the demand for these shared bikes in the American market. The company wants to know:\n",
        "\n",
        "Which variables are significant in predicting the demand for shared bikes.\n",
        "How well those variables describe the bike demands\n",
        "Based on various meteorological surveys and people's styles, the service provider firm has gathered a large dataset on daily bike demands across the American market based on some factors.\n",
        "\n",
        "#### Business Goal:\n",
        "\n",
        "We are required to model the demand for shared bikes with the available independent variables. It will be used by the management to understand how exactly the demands vary with different features. They can accordingly manipulate the business strategy to meet the demand levels and meet the customer's expectations. Further, the model will be a good way for management to understand the demand dynamics of a new market."
      ],
      "metadata": {
        "id": "-ZgbGgkLs3S7"
      }
    },
    {
      "cell_type": "markdown",
      "source": [
        "##  Reading and Understanding the Data\n"
      ],
      "metadata": {
        "id": "F5Y4YKL7s3S-"
      }
    },
    {
      "cell_type": "code",
      "source": [
        "# Supress Warnings\n",
        "\n",
        "import warnings\n",
        "warnings.filterwarnings('ignore')"
      ],
      "metadata": {
        "trusted": true,
        "id": "6zxOvtSBs3TA"
      },
      "execution_count": 4,
      "outputs": []
    },
    {
      "cell_type": "code",
      "source": [
        "import numpy as np\n",
        "import pandas as pd\n",
        "import matplotlib.pyplot as plt\n",
        "import seaborn as sns\n",
        "%matplotlib inline"
      ],
      "metadata": {
        "trusted": true,
        "id": "svo4wmN5s3TB"
      },
      "execution_count": 5,
      "outputs": []
    },
    {
      "cell_type": "code",
      "source": [
        "import os\n",
        "for dirname, _, filenames in os.walk('/kaggle/input'):\n",
        "    for filename in filenames:\n",
        "        print(os.path.join(dirname, filename))"
      ],
      "metadata": {
        "trusted": true,
        "id": "YFdm2rd_s3TC"
      },
      "execution_count": 6,
      "outputs": []
    },
    {
      "cell_type": "code",
      "source": [
        "bike = pd.DataFrame(pd.read_csv(\"day.csv\"))"
      ],
      "metadata": {
        "trusted": true,
        "id": "PfnjI7bbs3TD"
      },
      "execution_count": 8,
      "outputs": []
    },
    {
      "cell_type": "code",
      "source": [
        "# Check the head of the dataset\n",
        "bike.head()"
      ],
      "metadata": {
        "trusted": true,
        "id": "dcCvrQCOs3TD",
        "outputId": "877325d2-ae1a-469f-fc1f-18e0748d0862",
        "colab": {
          "base_uri": "https://localhost:8080/",
          "height": 293
        }
      },
      "execution_count": 9,
      "outputs": [
        {
          "output_type": "execute_result",
          "data": {
            "text/plain": [
              "   instant      dteday  season  yr  mnth  holiday  weekday  workingday  \\\n",
              "0        1  01-01-2018       1   0     1        0        6           0   \n",
              "1        2  02-01-2018       1   0     1        0        0           0   \n",
              "2        3  03-01-2018       1   0     1        0        1           1   \n",
              "3        4  04-01-2018       1   0     1        0        2           1   \n",
              "4        5  05-01-2018       1   0     1        0        3           1   \n",
              "\n",
              "   weathersit       temp     atemp      hum  windspeed  casual  registered  \\\n",
              "0           2  14.110847  18.18125  80.5833  10.749882     331         654   \n",
              "1           2  14.902598  17.68695  69.6087  16.652113     131         670   \n",
              "2           1   8.050924   9.47025  43.7273  16.636703     120        1229   \n",
              "3           1   8.200000  10.60610  59.0435  10.739832     108        1454   \n",
              "4           1   9.305237  11.46350  43.6957  12.522300      82        1518   \n",
              "\n",
              "    cnt  \n",
              "0   985  \n",
              "1   801  \n",
              "2  1349  \n",
              "3  1562  \n",
              "4  1600  "
            ],
            "text/html": [
              "\n",
              "  <div id=\"df-86e6e8fd-3471-40c5-8499-2d36bb23faf2\" class=\"colab-df-container\">\n",
              "    <div>\n",
              "<style scoped>\n",
              "    .dataframe tbody tr th:only-of-type {\n",
              "        vertical-align: middle;\n",
              "    }\n",
              "\n",
              "    .dataframe tbody tr th {\n",
              "        vertical-align: top;\n",
              "    }\n",
              "\n",
              "    .dataframe thead th {\n",
              "        text-align: right;\n",
              "    }\n",
              "</style>\n",
              "<table border=\"1\" class=\"dataframe\">\n",
              "  <thead>\n",
              "    <tr style=\"text-align: right;\">\n",
              "      <th></th>\n",
              "      <th>instant</th>\n",
              "      <th>dteday</th>\n",
              "      <th>season</th>\n",
              "      <th>yr</th>\n",
              "      <th>mnth</th>\n",
              "      <th>holiday</th>\n",
              "      <th>weekday</th>\n",
              "      <th>workingday</th>\n",
              "      <th>weathersit</th>\n",
              "      <th>temp</th>\n",
              "      <th>atemp</th>\n",
              "      <th>hum</th>\n",
              "      <th>windspeed</th>\n",
              "      <th>casual</th>\n",
              "      <th>registered</th>\n",
              "      <th>cnt</th>\n",
              "    </tr>\n",
              "  </thead>\n",
              "  <tbody>\n",
              "    <tr>\n",
              "      <th>0</th>\n",
              "      <td>1</td>\n",
              "      <td>01-01-2018</td>\n",
              "      <td>1</td>\n",
              "      <td>0</td>\n",
              "      <td>1</td>\n",
              "      <td>0</td>\n",
              "      <td>6</td>\n",
              "      <td>0</td>\n",
              "      <td>2</td>\n",
              "      <td>14.110847</td>\n",
              "      <td>18.18125</td>\n",
              "      <td>80.5833</td>\n",
              "      <td>10.749882</td>\n",
              "      <td>331</td>\n",
              "      <td>654</td>\n",
              "      <td>985</td>\n",
              "    </tr>\n",
              "    <tr>\n",
              "      <th>1</th>\n",
              "      <td>2</td>\n",
              "      <td>02-01-2018</td>\n",
              "      <td>1</td>\n",
              "      <td>0</td>\n",
              "      <td>1</td>\n",
              "      <td>0</td>\n",
              "      <td>0</td>\n",
              "      <td>0</td>\n",
              "      <td>2</td>\n",
              "      <td>14.902598</td>\n",
              "      <td>17.68695</td>\n",
              "      <td>69.6087</td>\n",
              "      <td>16.652113</td>\n",
              "      <td>131</td>\n",
              "      <td>670</td>\n",
              "      <td>801</td>\n",
              "    </tr>\n",
              "    <tr>\n",
              "      <th>2</th>\n",
              "      <td>3</td>\n",
              "      <td>03-01-2018</td>\n",
              "      <td>1</td>\n",
              "      <td>0</td>\n",
              "      <td>1</td>\n",
              "      <td>0</td>\n",
              "      <td>1</td>\n",
              "      <td>1</td>\n",
              "      <td>1</td>\n",
              "      <td>8.050924</td>\n",
              "      <td>9.47025</td>\n",
              "      <td>43.7273</td>\n",
              "      <td>16.636703</td>\n",
              "      <td>120</td>\n",
              "      <td>1229</td>\n",
              "      <td>1349</td>\n",
              "    </tr>\n",
              "    <tr>\n",
              "      <th>3</th>\n",
              "      <td>4</td>\n",
              "      <td>04-01-2018</td>\n",
              "      <td>1</td>\n",
              "      <td>0</td>\n",
              "      <td>1</td>\n",
              "      <td>0</td>\n",
              "      <td>2</td>\n",
              "      <td>1</td>\n",
              "      <td>1</td>\n",
              "      <td>8.200000</td>\n",
              "      <td>10.60610</td>\n",
              "      <td>59.0435</td>\n",
              "      <td>10.739832</td>\n",
              "      <td>108</td>\n",
              "      <td>1454</td>\n",
              "      <td>1562</td>\n",
              "    </tr>\n",
              "    <tr>\n",
              "      <th>4</th>\n",
              "      <td>5</td>\n",
              "      <td>05-01-2018</td>\n",
              "      <td>1</td>\n",
              "      <td>0</td>\n",
              "      <td>1</td>\n",
              "      <td>0</td>\n",
              "      <td>3</td>\n",
              "      <td>1</td>\n",
              "      <td>1</td>\n",
              "      <td>9.305237</td>\n",
              "      <td>11.46350</td>\n",
              "      <td>43.6957</td>\n",
              "      <td>12.522300</td>\n",
              "      <td>82</td>\n",
              "      <td>1518</td>\n",
              "      <td>1600</td>\n",
              "    </tr>\n",
              "  </tbody>\n",
              "</table>\n",
              "</div>\n",
              "    <div class=\"colab-df-buttons\">\n",
              "\n",
              "  <div class=\"colab-df-container\">\n",
              "    <button class=\"colab-df-convert\" onclick=\"convertToInteractive('df-86e6e8fd-3471-40c5-8499-2d36bb23faf2')\"\n",
              "            title=\"Convert this dataframe to an interactive table.\"\n",
              "            style=\"display:none;\">\n",
              "\n",
              "  <svg xmlns=\"http://www.w3.org/2000/svg\" height=\"24px\" viewBox=\"0 -960 960 960\">\n",
              "    <path d=\"M120-120v-720h720v720H120Zm60-500h600v-160H180v160Zm220 220h160v-160H400v160Zm0 220h160v-160H400v160ZM180-400h160v-160H180v160Zm440 0h160v-160H620v160ZM180-180h160v-160H180v160Zm440 0h160v-160H620v160Z\"/>\n",
              "  </svg>\n",
              "    </button>\n",
              "\n",
              "  <style>\n",
              "    .colab-df-container {\n",
              "      display:flex;\n",
              "      gap: 12px;\n",
              "    }\n",
              "\n",
              "    .colab-df-convert {\n",
              "      background-color: #E8F0FE;\n",
              "      border: none;\n",
              "      border-radius: 50%;\n",
              "      cursor: pointer;\n",
              "      display: none;\n",
              "      fill: #1967D2;\n",
              "      height: 32px;\n",
              "      padding: 0 0 0 0;\n",
              "      width: 32px;\n",
              "    }\n",
              "\n",
              "    .colab-df-convert:hover {\n",
              "      background-color: #E2EBFA;\n",
              "      box-shadow: 0px 1px 2px rgba(60, 64, 67, 0.3), 0px 1px 3px 1px rgba(60, 64, 67, 0.15);\n",
              "      fill: #174EA6;\n",
              "    }\n",
              "\n",
              "    .colab-df-buttons div {\n",
              "      margin-bottom: 4px;\n",
              "    }\n",
              "\n",
              "    [theme=dark] .colab-df-convert {\n",
              "      background-color: #3B4455;\n",
              "      fill: #D2E3FC;\n",
              "    }\n",
              "\n",
              "    [theme=dark] .colab-df-convert:hover {\n",
              "      background-color: #434B5C;\n",
              "      box-shadow: 0px 1px 3px 1px rgba(0, 0, 0, 0.15);\n",
              "      filter: drop-shadow(0px 1px 2px rgba(0, 0, 0, 0.3));\n",
              "      fill: #FFFFFF;\n",
              "    }\n",
              "  </style>\n",
              "\n",
              "    <script>\n",
              "      const buttonEl =\n",
              "        document.querySelector('#df-86e6e8fd-3471-40c5-8499-2d36bb23faf2 button.colab-df-convert');\n",
              "      buttonEl.style.display =\n",
              "        google.colab.kernel.accessAllowed ? 'block' : 'none';\n",
              "\n",
              "      async function convertToInteractive(key) {\n",
              "        const element = document.querySelector('#df-86e6e8fd-3471-40c5-8499-2d36bb23faf2');\n",
              "        const dataTable =\n",
              "          await google.colab.kernel.invokeFunction('convertToInteractive',\n",
              "                                                    [key], {});\n",
              "        if (!dataTable) return;\n",
              "\n",
              "        const docLinkHtml = 'Like what you see? Visit the ' +\n",
              "          '<a target=\"_blank\" href=https://colab.research.google.com/notebooks/data_table.ipynb>data table notebook</a>'\n",
              "          + ' to learn more about interactive tables.';\n",
              "        element.innerHTML = '';\n",
              "        dataTable['output_type'] = 'display_data';\n",
              "        await google.colab.output.renderOutput(dataTable, element);\n",
              "        const docLink = document.createElement('div');\n",
              "        docLink.innerHTML = docLinkHtml;\n",
              "        element.appendChild(docLink);\n",
              "      }\n",
              "    </script>\n",
              "  </div>\n",
              "\n",
              "\n",
              "<div id=\"df-b40b647c-1859-4fdd-859e-553156d41d39\">\n",
              "  <button class=\"colab-df-quickchart\" onclick=\"quickchart('df-b40b647c-1859-4fdd-859e-553156d41d39')\"\n",
              "            title=\"Suggest charts\"\n",
              "            style=\"display:none;\">\n",
              "\n",
              "<svg xmlns=\"http://www.w3.org/2000/svg\" height=\"24px\"viewBox=\"0 0 24 24\"\n",
              "     width=\"24px\">\n",
              "    <g>\n",
              "        <path d=\"M19 3H5c-1.1 0-2 .9-2 2v14c0 1.1.9 2 2 2h14c1.1 0 2-.9 2-2V5c0-1.1-.9-2-2-2zM9 17H7v-7h2v7zm4 0h-2V7h2v10zm4 0h-2v-4h2v4z\"/>\n",
              "    </g>\n",
              "</svg>\n",
              "  </button>\n",
              "\n",
              "<style>\n",
              "  .colab-df-quickchart {\n",
              "      --bg-color: #E8F0FE;\n",
              "      --fill-color: #1967D2;\n",
              "      --hover-bg-color: #E2EBFA;\n",
              "      --hover-fill-color: #174EA6;\n",
              "      --disabled-fill-color: #AAA;\n",
              "      --disabled-bg-color: #DDD;\n",
              "  }\n",
              "\n",
              "  [theme=dark] .colab-df-quickchart {\n",
              "      --bg-color: #3B4455;\n",
              "      --fill-color: #D2E3FC;\n",
              "      --hover-bg-color: #434B5C;\n",
              "      --hover-fill-color: #FFFFFF;\n",
              "      --disabled-bg-color: #3B4455;\n",
              "      --disabled-fill-color: #666;\n",
              "  }\n",
              "\n",
              "  .colab-df-quickchart {\n",
              "    background-color: var(--bg-color);\n",
              "    border: none;\n",
              "    border-radius: 50%;\n",
              "    cursor: pointer;\n",
              "    display: none;\n",
              "    fill: var(--fill-color);\n",
              "    height: 32px;\n",
              "    padding: 0;\n",
              "    width: 32px;\n",
              "  }\n",
              "\n",
              "  .colab-df-quickchart:hover {\n",
              "    background-color: var(--hover-bg-color);\n",
              "    box-shadow: 0 1px 2px rgba(60, 64, 67, 0.3), 0 1px 3px 1px rgba(60, 64, 67, 0.15);\n",
              "    fill: var(--button-hover-fill-color);\n",
              "  }\n",
              "\n",
              "  .colab-df-quickchart-complete:disabled,\n",
              "  .colab-df-quickchart-complete:disabled:hover {\n",
              "    background-color: var(--disabled-bg-color);\n",
              "    fill: var(--disabled-fill-color);\n",
              "    box-shadow: none;\n",
              "  }\n",
              "\n",
              "  .colab-df-spinner {\n",
              "    border: 2px solid var(--fill-color);\n",
              "    border-color: transparent;\n",
              "    border-bottom-color: var(--fill-color);\n",
              "    animation:\n",
              "      spin 1s steps(1) infinite;\n",
              "  }\n",
              "\n",
              "  @keyframes spin {\n",
              "    0% {\n",
              "      border-color: transparent;\n",
              "      border-bottom-color: var(--fill-color);\n",
              "      border-left-color: var(--fill-color);\n",
              "    }\n",
              "    20% {\n",
              "      border-color: transparent;\n",
              "      border-left-color: var(--fill-color);\n",
              "      border-top-color: var(--fill-color);\n",
              "    }\n",
              "    30% {\n",
              "      border-color: transparent;\n",
              "      border-left-color: var(--fill-color);\n",
              "      border-top-color: var(--fill-color);\n",
              "      border-right-color: var(--fill-color);\n",
              "    }\n",
              "    40% {\n",
              "      border-color: transparent;\n",
              "      border-right-color: var(--fill-color);\n",
              "      border-top-color: var(--fill-color);\n",
              "    }\n",
              "    60% {\n",
              "      border-color: transparent;\n",
              "      border-right-color: var(--fill-color);\n",
              "    }\n",
              "    80% {\n",
              "      border-color: transparent;\n",
              "      border-right-color: var(--fill-color);\n",
              "      border-bottom-color: var(--fill-color);\n",
              "    }\n",
              "    90% {\n",
              "      border-color: transparent;\n",
              "      border-bottom-color: var(--fill-color);\n",
              "    }\n",
              "  }\n",
              "</style>\n",
              "\n",
              "  <script>\n",
              "    async function quickchart(key) {\n",
              "      const quickchartButtonEl =\n",
              "        document.querySelector('#' + key + ' button');\n",
              "      quickchartButtonEl.disabled = true;  // To prevent multiple clicks.\n",
              "      quickchartButtonEl.classList.add('colab-df-spinner');\n",
              "      try {\n",
              "        const charts = await google.colab.kernel.invokeFunction(\n",
              "            'suggestCharts', [key], {});\n",
              "      } catch (error) {\n",
              "        console.error('Error during call to suggestCharts:', error);\n",
              "      }\n",
              "      quickchartButtonEl.classList.remove('colab-df-spinner');\n",
              "      quickchartButtonEl.classList.add('colab-df-quickchart-complete');\n",
              "    }\n",
              "    (() => {\n",
              "      let quickchartButtonEl =\n",
              "        document.querySelector('#df-b40b647c-1859-4fdd-859e-553156d41d39 button');\n",
              "      quickchartButtonEl.style.display =\n",
              "        google.colab.kernel.accessAllowed ? 'block' : 'none';\n",
              "    })();\n",
              "  </script>\n",
              "</div>\n",
              "\n",
              "    </div>\n",
              "  </div>\n"
            ],
            "application/vnd.google.colaboratory.intrinsic+json": {
              "type": "dataframe",
              "variable_name": "bike",
              "summary": "{\n  \"name\": \"bike\",\n  \"rows\": 730,\n  \"fields\": [\n    {\n      \"column\": \"instant\",\n      \"properties\": {\n        \"dtype\": \"number\",\n        \"std\": 210,\n        \"min\": 1,\n        \"max\": 730,\n        \"num_unique_values\": 730,\n        \"samples\": [\n          469,\n          149,\n          303\n        ],\n        \"semantic_type\": \"\",\n        \"description\": \"\"\n      }\n    },\n    {\n      \"column\": \"dteday\",\n      \"properties\": {\n        \"dtype\": \"string\",\n        \"num_unique_values\": 730,\n        \"samples\": [\n          \"14-04-2019\",\n          \"29-05-2018\",\n          \"30-10-2018\"\n        ],\n        \"semantic_type\": \"\",\n        \"description\": \"\"\n      }\n    },\n    {\n      \"column\": \"season\",\n      \"properties\": {\n        \"dtype\": \"number\",\n        \"std\": 1,\n        \"min\": 1,\n        \"max\": 4,\n        \"num_unique_values\": 4,\n        \"samples\": [\n          2,\n          4,\n          1\n        ],\n        \"semantic_type\": \"\",\n        \"description\": \"\"\n      }\n    },\n    {\n      \"column\": \"yr\",\n      \"properties\": {\n        \"dtype\": \"number\",\n        \"std\": 0,\n        \"min\": 0,\n        \"max\": 1,\n        \"num_unique_values\": 2,\n        \"samples\": [\n          1,\n          0\n        ],\n        \"semantic_type\": \"\",\n        \"description\": \"\"\n      }\n    },\n    {\n      \"column\": \"mnth\",\n      \"properties\": {\n        \"dtype\": \"number\",\n        \"std\": 3,\n        \"min\": 1,\n        \"max\": 12,\n        \"num_unique_values\": 12,\n        \"samples\": [\n          11,\n          10\n        ],\n        \"semantic_type\": \"\",\n        \"description\": \"\"\n      }\n    },\n    {\n      \"column\": \"holiday\",\n      \"properties\": {\n        \"dtype\": \"number\",\n        \"std\": 0,\n        \"min\": 0,\n        \"max\": 1,\n        \"num_unique_values\": 2,\n        \"samples\": [\n          1,\n          0\n        ],\n        \"semantic_type\": \"\",\n        \"description\": \"\"\n      }\n    },\n    {\n      \"column\": \"weekday\",\n      \"properties\": {\n        \"dtype\": \"number\",\n        \"std\": 2,\n        \"min\": 0,\n        \"max\": 6,\n        \"num_unique_values\": 7,\n        \"samples\": [\n          6,\n          0\n        ],\n        \"semantic_type\": \"\",\n        \"description\": \"\"\n      }\n    },\n    {\n      \"column\": \"workingday\",\n      \"properties\": {\n        \"dtype\": \"number\",\n        \"std\": 0,\n        \"min\": 0,\n        \"max\": 1,\n        \"num_unique_values\": 2,\n        \"samples\": [\n          1,\n          0\n        ],\n        \"semantic_type\": \"\",\n        \"description\": \"\"\n      }\n    },\n    {\n      \"column\": \"weathersit\",\n      \"properties\": {\n        \"dtype\": \"number\",\n        \"std\": 0,\n        \"min\": 1,\n        \"max\": 3,\n        \"num_unique_values\": 3,\n        \"samples\": [\n          2,\n          1\n        ],\n        \"semantic_type\": \"\",\n        \"description\": \"\"\n      }\n    },\n    {\n      \"column\": \"temp\",\n      \"properties\": {\n        \"dtype\": \"number\",\n        \"std\": 7.506728936951138,\n        \"min\": 2.4243464,\n        \"max\": 35.328347,\n        \"num_unique_values\": 498,\n        \"samples\": [\n          10.489153,\n          17.647835\n        ],\n        \"semantic_type\": \"\",\n        \"description\": \"\"\n      }\n    },\n    {\n      \"column\": \"atemp\",\n      \"properties\": {\n        \"dtype\": \"number\",\n        \"std\": 8.150307762216793,\n        \"min\": 3.95348,\n        \"max\": 42.0448,\n        \"num_unique_values\": 689,\n        \"samples\": [\n          23.16875,\n          16.9502\n        ],\n        \"semantic_type\": \"\",\n        \"description\": \"\"\n      }\n    },\n    {\n      \"column\": \"hum\",\n      \"properties\": {\n        \"dtype\": \"number\",\n        \"std\": 14.237589043405638,\n        \"min\": 0.0,\n        \"max\": 97.25,\n        \"num_unique_values\": 594,\n        \"samples\": [\n          60.375,\n          91.0\n        ],\n        \"semantic_type\": \"\",\n        \"description\": \"\"\n      }\n    },\n    {\n      \"column\": \"windspeed\",\n      \"properties\": {\n        \"dtype\": \"number\",\n        \"std\": 5.195840704080459,\n        \"min\": 1.5002439,\n        \"max\": 34.000021,\n        \"num_unique_values\": 649,\n        \"samples\": [\n          6.749714,\n          9.333636\n        ],\n        \"semantic_type\": \"\",\n        \"description\": \"\"\n      }\n    },\n    {\n      \"column\": \"casual\",\n      \"properties\": {\n        \"dtype\": \"number\",\n        \"std\": 686,\n        \"min\": 2,\n        \"max\": 3410,\n        \"num_unique_values\": 605,\n        \"samples\": [\n          518,\n          449\n        ],\n        \"semantic_type\": \"\",\n        \"description\": \"\"\n      }\n    },\n    {\n      \"column\": \"registered\",\n      \"properties\": {\n        \"dtype\": \"number\",\n        \"std\": 1559,\n        \"min\": 20,\n        \"max\": 6946,\n        \"num_unique_values\": 678,\n        \"samples\": [\n          1470,\n          2553\n        ],\n        \"semantic_type\": \"\",\n        \"description\": \"\"\n      }\n    },\n    {\n      \"column\": \"cnt\",\n      \"properties\": {\n        \"dtype\": \"number\",\n        \"std\": 1936,\n        \"min\": 22,\n        \"max\": 8714,\n        \"num_unique_values\": 695,\n        \"samples\": [\n          4579,\n          6606\n        ],\n        \"semantic_type\": \"\",\n        \"description\": \"\"\n      }\n    }\n  ]\n}"
            }
          },
          "metadata": {},
          "execution_count": 9
        }
      ]
    },
    {
      "cell_type": "code",
      "source": [
        "# Check the descriptive information\n",
        "bike.info()"
      ],
      "metadata": {
        "trusted": true,
        "id": "O9FvUP24s3TE"
      },
      "execution_count": null,
      "outputs": []
    },
    {
      "cell_type": "code",
      "source": [
        "bike.describe()"
      ],
      "metadata": {
        "trusted": true,
        "id": "V6IfNN24s3TF"
      },
      "execution_count": null,
      "outputs": []
    },
    {
      "cell_type": "code",
      "source": [
        "# Check the shape of df\n",
        "\n",
        "print(bike.shape)"
      ],
      "metadata": {
        "trusted": true,
        "id": "kWLb7jPss3TF"
      },
      "execution_count": null,
      "outputs": []
    },
    {
      "cell_type": "markdown",
      "source": [
        "## Finding :\n",
        "Dataset has 730 rows and 16 columns.\n",
        "\n",
        "Except one column, all other are either float or integer type.\n",
        "\n",
        "One column is date type.\n",
        "\n",
        "Looking at the data, there seems to be some fields that are categorical in nature, but in integer/float type.\n",
        "\n",
        "We will analyse and finalize whether to convert them to categorical or treat as integer."
      ],
      "metadata": {
        "id": "VxlxEqrAs3TG"
      }
    },
    {
      "cell_type": "markdown",
      "source": [
        "# DATA QUALITY CHECK"
      ],
      "metadata": {
        "id": "2elNi75qs3TH"
      }
    },
    {
      "cell_type": "markdown",
      "source": [
        "## Check for NULL/MISSING values"
      ],
      "metadata": {
        "id": "CnNZmfEjs3TH"
      }
    },
    {
      "cell_type": "code",
      "source": [
        "# percentage of missing values in each column\n",
        "round(100*(bike.isnull().sum()/len(bike)), 2).sort_values(ascending=False)"
      ],
      "metadata": {
        "trusted": true,
        "id": "VsANzGBes3TH"
      },
      "execution_count": null,
      "outputs": []
    },
    {
      "cell_type": "code",
      "source": [
        "# row-wise null count percentage\n",
        "round((bike.isnull().sum(axis=1)/len(bike))*100,2).sort_values(ascending=False)"
      ],
      "metadata": {
        "trusted": true,
        "id": "A6837T3Ms3TI"
      },
      "execution_count": null,
      "outputs": []
    },
    {
      "cell_type": "markdown",
      "source": [
        "## Finding\n",
        "There are no missing / Null values either in columns or rows"
      ],
      "metadata": {
        "id": "5iwrxbHYs3TI"
      }
    },
    {
      "cell_type": "markdown",
      "source": [
        "## Duplicate Check"
      ],
      "metadata": {
        "id": "640CzwSys3TI"
      }
    },
    {
      "cell_type": "code",
      "source": [
        "bike_dup = bike.copy()\n",
        "\n",
        "# Checking for duplicates and dropping the entire duplicate row if any\n",
        "bike_dup.drop_duplicates(subset=None, inplace=True)"
      ],
      "metadata": {
        "trusted": true,
        "id": "HToViCvps3TI"
      },
      "execution_count": null,
      "outputs": []
    },
    {
      "cell_type": "code",
      "source": [
        "bike_dup.shape"
      ],
      "metadata": {
        "trusted": true,
        "id": "J47egoCQs3TJ"
      },
      "execution_count": null,
      "outputs": []
    },
    {
      "cell_type": "code",
      "source": [
        "bike.shape"
      ],
      "metadata": {
        "trusted": true,
        "id": "XSw2UVPks3TJ"
      },
      "execution_count": null,
      "outputs": []
    },
    {
      "cell_type": "markdown",
      "source": [
        "### Insights\n",
        "\n",
        "The shape after running the drop duplicate command is same as the original dataframe.\n",
        "\n",
        "Hence we can conclude that there were zero duplicate values in the dataset."
      ],
      "metadata": {
        "id": "UJAX0nvrs3TJ"
      }
    },
    {
      "cell_type": "markdown",
      "source": [
        "## Data Cleaning\n",
        "\n",
        "Checking value_counts() for entire dataframe.\n",
        "\n",
        "This will help to identify any Unknow/Junk values present in the dataset."
      ],
      "metadata": {
        "id": "q7COmWScs3TJ"
      }
    },
    {
      "cell_type": "code",
      "source": [
        "#Create a copy of the  dataframe, without the 'instant' column,\n",
        "\n",
        "#as this will have unique values, and donot make sense to do a value count on it.\n",
        "\n",
        "bike_dummy=bike.iloc[:,1:16]"
      ],
      "metadata": {
        "trusted": true,
        "id": "1KZHm-LJs3TK"
      },
      "execution_count": null,
      "outputs": []
    },
    {
      "cell_type": "code",
      "source": [
        "for col in bike_dummy:\n",
        "    print(bike_dummy[col].value_counts(ascending=False), '\\n\\n\\n')"
      ],
      "metadata": {
        "trusted": true,
        "id": "M7fNxf6ps3TK"
      },
      "execution_count": null,
      "outputs": []
    },
    {
      "cell_type": "markdown",
      "source": [
        "### Insights\n",
        "There seems to be no Junk/Unknown values in the entire dataset."
      ],
      "metadata": {
        "id": "CJtp9Qips3TK"
      }
    },
    {
      "cell_type": "markdown",
      "source": [
        "# Removing redundant & unwanted columns"
      ],
      "metadata": {
        "id": "vfyf-Qwgs3TK"
      }
    },
    {
      "cell_type": "markdown",
      "source": [
        "Based on the high level look at the data and the data dictionary, the following variables can be removed from further analysis:\n",
        "\n",
        "1. **instant** : Its only an index value\n",
        "\n",
        "2. **dteday** : This has the date, Since we already have seperate columns for 'year' & 'month',hence, we could live without this column.\n",
        "\n",
        "3.  **casual & registered** : Both these columns contains the count of bike booked by different categories of customers.\n",
        "Since our objective is to find the total count of bikes and not by specific category, we will ignore these two columns.\n",
        "More over, we have created a new variable to have the ratio of these customer types.\n",
        "\n",
        "4.  We will save the new dataframe as bike_new, so that the original dataset is preserved for any future analysis/validation"
      ],
      "metadata": {
        "id": "Fv0dw-OIs3TK"
      }
    },
    {
      "cell_type": "code",
      "source": [
        "bike.columns"
      ],
      "metadata": {
        "trusted": true,
        "id": "MgdIzdyPs3TL"
      },
      "execution_count": null,
      "outputs": []
    },
    {
      "cell_type": "code",
      "source": [
        "bike_new=bike[['season', 'yr', 'mnth', 'holiday', 'weekday',\n",
        "       'workingday', 'weathersit', 'temp', 'atemp', 'hum', 'windspeed',\n",
        "       'cnt']]\n"
      ],
      "metadata": {
        "trusted": true,
        "id": "AhiuD4z6s3TL"
      },
      "execution_count": null,
      "outputs": []
    },
    {
      "cell_type": "code",
      "source": [
        "bike_new.info()"
      ],
      "metadata": {
        "trusted": true,
        "id": "nXj9lf4Fs3TL"
      },
      "execution_count": null,
      "outputs": []
    },
    {
      "cell_type": "markdown",
      "source": [
        "# Creating Dummy Variables"
      ],
      "metadata": {
        "id": "F-XDIv7gs3TL"
      }
    },
    {
      "cell_type": "markdown",
      "source": [
        "We will create DUMMY variables for 4 categorical variables 'mnth', 'weekday', 'season' & 'weathersit'.\n",
        "- Before creating dummy variables, we will have to convert them into 'category' data types."
      ],
      "metadata": {
        "id": "qNp_OI6Qs3TM"
      }
    },
    {
      "cell_type": "code",
      "source": [
        "# Check the datatypes before convertion\n",
        "bike_new.info()"
      ],
      "metadata": {
        "trusted": true,
        "id": "SuU0Ve6Rs3TM"
      },
      "execution_count": null,
      "outputs": []
    },
    {
      "cell_type": "code",
      "source": [
        "# Convert to 'category' data type\n",
        "\n",
        "bike_new['season']=bike_new['season'].astype('category')\n",
        "bike_new['weathersit']=bike_new['weathersit'].astype('category')\n",
        "bike_new['mnth']=bike_new['mnth'].astype('category')\n",
        "bike_new['weekday']=bike_new['weekday'].astype('category')\n"
      ],
      "metadata": {
        "trusted": true,
        "id": "PSpbCasPs3TM"
      },
      "execution_count": null,
      "outputs": []
    },
    {
      "cell_type": "code",
      "source": [
        "bike_new.info()"
      ],
      "metadata": {
        "trusted": true,
        "id": "bypytu9js3TM"
      },
      "execution_count": null,
      "outputs": []
    },
    {
      "cell_type": "code",
      "source": [
        "# This code does 3 things:\n",
        "# 1) Create Dummy variable\n",
        "# 2) Drop original variable for which the dummy was created\n",
        "# 3) Drop first dummy variable for each set of dummies created.\n",
        "\n",
        "bike_new = pd.get_dummies(bike_new, drop_first=True)\n",
        "bike_new.info()"
      ],
      "metadata": {
        "trusted": true,
        "id": "WwETzCbOs3TN"
      },
      "execution_count": null,
      "outputs": []
    },
    {
      "cell_type": "code",
      "source": [
        "bike_new.shape"
      ],
      "metadata": {
        "trusted": true,
        "id": "ds9wYFe0s3TN"
      },
      "execution_count": null,
      "outputs": []
    },
    {
      "cell_type": "markdown",
      "source": [
        "## SPLITTING THE DATA\n",
        "- Splitting the data to Train and Test: - We will now split the data into TRAIN and TEST (70:30 ratio)\n",
        "- We will use train_test_split method from sklearn package for this"
      ],
      "metadata": {
        "id": "TZtcoBpus3TN"
      }
    },
    {
      "cell_type": "code",
      "source": [
        "# Check the shape before spliting\n",
        "\n",
        "bike_new.shape"
      ],
      "metadata": {
        "trusted": true,
        "id": "dCJdFR2Cs3TY"
      },
      "execution_count": null,
      "outputs": []
    },
    {
      "cell_type": "code",
      "source": [
        "# Check the info before spliting\n",
        "\n",
        "bike_new.info()"
      ],
      "metadata": {
        "trusted": true,
        "id": "0oORLWg_s3TY"
      },
      "execution_count": null,
      "outputs": []
    },
    {
      "cell_type": "code",
      "source": [
        "from sklearn.model_selection import train_test_split\n",
        "\n",
        "# We should specify 'random_state' so that the train and test data set always have the same rows, respectively\n",
        "\n",
        "np.random.seed(0)\n",
        "df_train, df_test = train_test_split(bike_new, train_size = 0.70, test_size = 0.30, random_state = 333)"
      ],
      "metadata": {
        "trusted": true,
        "id": "lkg_ZBRzs3TY"
      },
      "execution_count": null,
      "outputs": []
    },
    {
      "cell_type": "markdown",
      "source": [
        "\n",
        "- Verify the info and shape of the dataframes after split:"
      ],
      "metadata": {
        "id": "CzQaUbBDs3TY"
      }
    },
    {
      "cell_type": "code",
      "source": [
        "df_train.info()"
      ],
      "metadata": {
        "trusted": true,
        "id": "X5XH_hbJs3TZ"
      },
      "execution_count": null,
      "outputs": []
    },
    {
      "cell_type": "code",
      "source": [
        "df_train.shape"
      ],
      "metadata": {
        "trusted": true,
        "id": "Nux9Yldks3TZ"
      },
      "execution_count": null,
      "outputs": []
    },
    {
      "cell_type": "code",
      "source": [
        "df_test.info()"
      ],
      "metadata": {
        "trusted": true,
        "id": "xIo_vp3as3TZ"
      },
      "execution_count": null,
      "outputs": []
    },
    {
      "cell_type": "code",
      "source": [
        "df_test.shape"
      ],
      "metadata": {
        "trusted": true,
        "id": "d0MI1MRss3TZ"
      },
      "execution_count": null,
      "outputs": []
    },
    {
      "cell_type": "markdown",
      "source": [
        "# EXPLORATORY DATA ANALYSIS"
      ],
      "metadata": {
        "id": "8artY4Ams3Ta"
      }
    },
    {
      "cell_type": "markdown",
      "source": [
        "\n",
        "- We need to  perform the EDA on TRAINING (df_train) Dataset."
      ],
      "metadata": {
        "id": "3cuN_Z4Vs3Ta"
      }
    },
    {
      "cell_type": "markdown",
      "source": [
        "## Visualising Numeric Variables\n",
        "Let's make a pairplot of all the numeric variables."
      ],
      "metadata": {
        "id": "JQA2MQvPs3Ta"
      }
    },
    {
      "cell_type": "code",
      "source": [
        "df_train.info()"
      ],
      "metadata": {
        "trusted": true,
        "id": "MPx6HUg5s3Td"
      },
      "execution_count": null,
      "outputs": []
    },
    {
      "cell_type": "code",
      "source": [
        "df_train.columns"
      ],
      "metadata": {
        "trusted": true,
        "id": "-Q_3p1q8s3Te"
      },
      "execution_count": null,
      "outputs": []
    },
    {
      "cell_type": "code",
      "source": [
        "# Create a new dataframe of only numeric variables:\n",
        "\n",
        "bike_num=df_train[[ 'temp', 'atemp', 'hum', 'windspeed','cnt']]\n",
        "\n",
        "sns.pairplot(bike_num, diag_kind='kde')\n",
        "plt.show()"
      ],
      "metadata": {
        "trusted": true,
        "id": "-_fqKHxks3Te"
      },
      "execution_count": null,
      "outputs": []
    },
    {
      "cell_type": "markdown",
      "source": [
        "### Insights\n",
        "- The above Pair-Plot tells us that there is a LINEAR RELATION between 'temp','atemp' and 'cnt'"
      ],
      "metadata": {
        "id": "SIEcwmdCs3Te"
      }
    },
    {
      "cell_type": "markdown",
      "source": [
        "## Visualising Catagorical Variables"
      ],
      "metadata": {
        "id": "rcIJOCG-s3Tf"
      }
    },
    {
      "cell_type": "code",
      "source": [
        "df_train.info()"
      ],
      "metadata": {
        "trusted": true,
        "id": "GHmqSQFos3Tf"
      },
      "execution_count": null,
      "outputs": []
    },
    {
      "cell_type": "code",
      "source": [
        "# Build boxplot of all categorical variables (before creating dummies) againt the target variable 'cnt'\n",
        "# to see how each of the predictor variable stackup against the target variable.\n",
        "\n",
        "plt.figure(figsize=(25, 10))\n",
        "plt.subplot(2,3,1)\n",
        "sns.boxplot(x = 'season', y = 'cnt', data = bike)\n",
        "plt.subplot(2,3,2)\n",
        "sns.boxplot(x = 'mnth', y = 'cnt', data = bike)\n",
        "plt.subplot(2,3,3)\n",
        "sns.boxplot(x = 'weathersit', y = 'cnt', data = bike)\n",
        "plt.subplot(2,3,4)\n",
        "sns.boxplot(x = 'holiday', y = 'cnt', data = bike)\n",
        "plt.subplot(2,3,5)\n",
        "sns.boxplot(x = 'weekday', y = 'cnt', data = bike)\n",
        "plt.subplot(2,3,6)\n",
        "sns.boxplot(x = 'workingday', y = 'cnt', data = bike)\n",
        "plt.show()"
      ],
      "metadata": {
        "trusted": true,
        "id": "QwJwwLprs3Tf"
      },
      "execution_count": null,
      "outputs": []
    },
    {
      "cell_type": "markdown",
      "source": [
        "### Insights\n",
        "There were 6 categorical variables in the dataset.\n",
        "\n",
        "We used Box plot (refer the fig above) to study their effect on the dependent variable (‘cnt’) .\n",
        "\n",
        "The inference that We could derive were:\n",
        "- **season**: Almost 32% of the bike booking were happening in season3 with a median of over 5000 booking (for the period of 2 years). This was followed by season2 & season4 with 27% & 25% of total booking. This indicates, season can be a good predictor for the dependent variable.\n",
        "\n",
        "- **mnth**: Almost 10% of the bike booking were happening in the months 5,6,7,8 & 9 with a median of over 4000 booking per month. This indicates, mnth has some trend for bookings and can be a good predictor for the dependent variable.\n",
        "- **weathersit**: Almost 67% of the bike booking were happening during ‘weathersit1 with a median of close to 5000 booking (for the period of 2 years). This was followed by weathersit2 with 30% of total booking. This indicates, weathersit does show some trend towards the bike bookings can be a good predictor for the dependent variable.\n",
        "- **holiday**: Almost 97.6% of the bike booking were happening when it is not a holiday which means this data is clearly biased. This indicates, holiday CANNOT be a good predictor for the dependent variable.\n",
        "- **weekday**: weekday variable shows very close trend (between 13.5%-14.8% of total booking on all days of the week) having their independent medians between 4000 to 5000 bookings. This variable can have some or no influence towards the predictor. I will let the model decide if this needs to be added or not.\n",
        "- **workingday**: Almost 69% of the bike booking were happening in ‘workingday’ with a median of close to 5000 booking (for the period of 2 years). This indicates, workingday can be a good predictor for the dependent variable"
      ],
      "metadata": {
        "id": "LRcTcaEVs3Tg"
      }
    },
    {
      "cell_type": "markdown",
      "source": [
        "## Correlation Matrix"
      ],
      "metadata": {
        "id": "SajcGZR7s3Th"
      }
    },
    {
      "cell_type": "code",
      "source": [
        "# Let's check the correlation coefficients to see which variables are highly correlated. Note:\n",
        "# here we are considering only those variables (dataframe: bike_new) that were chosen for analysis\n",
        "\n",
        "plt.figure(figsize = (25,20))\n",
        "sns.heatmap(bike_new.corr(), annot = True, cmap=\"RdBu\")\n",
        "plt.show()"
      ],
      "metadata": {
        "trusted": true,
        "id": "VXvldbNCs3Ti"
      },
      "execution_count": null,
      "outputs": []
    },
    {
      "cell_type": "markdown",
      "source": [
        "### Insights:\n",
        " - The heatmap clearly shows which all variable are multicollinear in nature, and which variable have high collinearity with the target variable.\n",
        " - We will refer this map back-and-forth while building the linear model so as to validate different correlated values along with VIF & p-value, for identifying the correct variable to select/eliminate from the model."
      ],
      "metadata": {
        "id": "wPXsmQ7fs3Ti"
      }
    },
    {
      "cell_type": "markdown",
      "source": [
        "# RESCALING THE FEATURES"
      ],
      "metadata": {
        "id": "5wwlDMgWs3Ti"
      }
    },
    {
      "cell_type": "code",
      "source": [
        "from sklearn.preprocessing import MinMaxScaler"
      ],
      "metadata": {
        "trusted": true,
        "id": "y-f6M1c0s3Tj"
      },
      "execution_count": null,
      "outputs": []
    },
    {
      "cell_type": "code",
      "source": [
        "scaler = MinMaxScaler()"
      ],
      "metadata": {
        "trusted": true,
        "id": "3inwVoXAs3Tj"
      },
      "execution_count": null,
      "outputs": []
    },
    {
      "cell_type": "code",
      "source": [
        "# Checking the values before scaling\n",
        "df_train.head()"
      ],
      "metadata": {
        "trusted": true,
        "id": "NB9PA7Dus3Tj"
      },
      "execution_count": null,
      "outputs": []
    },
    {
      "cell_type": "code",
      "source": [
        "df_train.columns"
      ],
      "metadata": {
        "trusted": true,
        "id": "lWxRXddDs3Tk"
      },
      "execution_count": null,
      "outputs": []
    },
    {
      "cell_type": "code",
      "source": [
        "# Apply scaler() to all the numeric variables\n",
        "\n",
        "num_vars = ['temp', 'atemp', 'hum', 'windspeed','cnt']\n",
        "\n",
        "df_train[num_vars] = scaler.fit_transform(df_train[num_vars])"
      ],
      "metadata": {
        "trusted": true,
        "id": "74AIW9uus3Tk"
      },
      "execution_count": null,
      "outputs": []
    },
    {
      "cell_type": "code",
      "source": [
        "# Checking values after scaling\n",
        "df_train.head()"
      ],
      "metadata": {
        "trusted": true,
        "id": "6nb2_4lXs3Tl"
      },
      "execution_count": null,
      "outputs": []
    },
    {
      "cell_type": "code",
      "source": [
        "df_train.describe()"
      ],
      "metadata": {
        "trusted": true,
        "id": "evMnuMsMs3Tl"
      },
      "execution_count": null,
      "outputs": []
    },
    {
      "cell_type": "markdown",
      "source": [
        "# BUILDING A LINEAR MODEL"
      ],
      "metadata": {
        "id": "VrUlnk0ns3Tl"
      }
    },
    {
      "cell_type": "markdown",
      "source": [
        "## Dividing into X and Y sets for the model building"
      ],
      "metadata": {
        "id": "3gN-OL-Ps3Tm"
      }
    },
    {
      "cell_type": "code",
      "source": [
        "y_train = df_train.pop('cnt')\n",
        "X_train = df_train"
      ],
      "metadata": {
        "trusted": true,
        "id": "rr9vndyXs3Tm"
      },
      "execution_count": null,
      "outputs": []
    },
    {
      "cell_type": "markdown",
      "source": [
        "### RFE\n",
        "Recursive feature elimination: We will be using the **LinearRegression function from SciKit Learn**  for its compatibility with RFE (which is a utility from sklearn)"
      ],
      "metadata": {
        "id": "444pUXbKs3Tn"
      }
    },
    {
      "cell_type": "code",
      "source": [
        "# Importing RFE and LinearRegression\n",
        "from sklearn.feature_selection import RFE\n",
        "from sklearn.linear_model import LinearRegression"
      ],
      "metadata": {
        "trusted": true,
        "id": "vAx1qSNJs3Tn"
      },
      "execution_count": null,
      "outputs": []
    },
    {
      "cell_type": "code",
      "source": [
        "# Running RFE with the output number of the variable equal to 15\n",
        "lm = LinearRegression()\n",
        "lm.fit(X_train, y_train)\n",
        "\n",
        "rfe = RFE(lm, 15)             # running RFE\n",
        "rfe = rfe.fit(X_train, y_train)"
      ],
      "metadata": {
        "trusted": true,
        "id": "25RlZ1PWs3To"
      },
      "execution_count": null,
      "outputs": []
    },
    {
      "cell_type": "code",
      "source": [
        "list(zip(X_train.columns,rfe.support_,rfe.ranking_))"
      ],
      "metadata": {
        "trusted": true,
        "id": "K20Longqs3To"
      },
      "execution_count": null,
      "outputs": []
    },
    {
      "cell_type": "code",
      "source": [
        "col = X_train.columns[rfe.support_]\n",
        "col"
      ],
      "metadata": {
        "trusted": true,
        "id": "_7v5a6WDs3Tp"
      },
      "execution_count": null,
      "outputs": []
    },
    {
      "cell_type": "code",
      "source": [
        "X_train.columns[~rfe.support_]"
      ],
      "metadata": {
        "trusted": true,
        "id": "cj8b7QIMs3Tp"
      },
      "execution_count": null,
      "outputs": []
    },
    {
      "cell_type": "code",
      "source": [
        "# Creating X_test dataframe with RFE selected variables\n",
        "X_train_rfe = X_train[col]"
      ],
      "metadata": {
        "trusted": true,
        "id": "ieIE_sOWs3Tq"
      },
      "execution_count": null,
      "outputs": []
    },
    {
      "cell_type": "markdown",
      "source": [
        "# Building Linear Model using 'STATS MODEL'"
      ],
      "metadata": {
        "id": "ejdsUxbhs3Tq"
      }
    },
    {
      "cell_type": "markdown",
      "source": [
        "## Model 1"
      ],
      "metadata": {
        "id": "B8fQV-8-s3Tr"
      }
    },
    {
      "cell_type": "markdown",
      "source": [
        "### VIF Check"
      ],
      "metadata": {
        "id": "mpBWPuMos3Tr"
      }
    },
    {
      "cell_type": "code",
      "source": [
        "# Check for the VIF values of the feature variables.\n",
        "from statsmodels.stats.outliers_influence import variance_inflation_factor\n",
        "\n",
        "# Create a dataframe that will contain the names of all the feature variables and their respective VIFs\n",
        "vif = pd.DataFrame()\n",
        "vif['Features'] = X_train_rfe.columns\n",
        "vif['VIF'] = [variance_inflation_factor(X_train_rfe.values, i) for i in range(X_train_rfe.shape[1])]\n",
        "vif['VIF'] = round(vif['VIF'], 2)\n",
        "vif = vif.sort_values(by = \"VIF\", ascending = False)\n",
        "vif"
      ],
      "metadata": {
        "trusted": true,
        "id": "tr7v2uH0s3Tr"
      },
      "execution_count": null,
      "outputs": []
    },
    {
      "cell_type": "code",
      "source": [
        "import statsmodels.api as sm\n",
        "\n",
        "# Add a constant\n",
        "X_train_lm1 = sm.add_constant(X_train_rfe)\n",
        "\n",
        "# Create a first fitted model\n",
        "lr1 = sm.OLS(y_train, X_train_lm1).fit()"
      ],
      "metadata": {
        "trusted": true,
        "id": "cCHU7rgss3Ts"
      },
      "execution_count": null,
      "outputs": []
    },
    {
      "cell_type": "code",
      "source": [
        "# Check the parameters obtained\n",
        "\n",
        "lr1.params"
      ],
      "metadata": {
        "trusted": true,
        "id": "_H-kYWDos3Ts"
      },
      "execution_count": null,
      "outputs": []
    },
    {
      "cell_type": "code",
      "source": [
        "# Print a summary of the linear regression model obtained\n",
        "print(lr1.summary())"
      ],
      "metadata": {
        "trusted": true,
        "id": "WWu1TQ1is3Tt"
      },
      "execution_count": null,
      "outputs": []
    },
    {
      "cell_type": "markdown",
      "source": [
        "## Model 2"
      ],
      "metadata": {
        "id": "nqTK4mnFs3Tt"
      }
    },
    {
      "cell_type": "markdown",
      "source": [
        "- Removing the variable 'atemp' based on its High p-value & High VIF"
      ],
      "metadata": {
        "id": "YedTrydDs3Tu"
      }
    },
    {
      "cell_type": "code",
      "source": [
        "X_train_new = X_train_rfe.drop([\"atemp\"], axis = 1)"
      ],
      "metadata": {
        "trusted": true,
        "id": "CYLx5bY7s3Tu"
      },
      "execution_count": null,
      "outputs": []
    },
    {
      "cell_type": "markdown",
      "source": [
        "### VIF Check"
      ],
      "metadata": {
        "id": "_s1UYNvjs3Tv"
      }
    },
    {
      "cell_type": "code",
      "source": [
        "# Check for the VIF values of the feature variables.\n",
        "from statsmodels.stats.outliers_influence import variance_inflation_factor\n",
        "\n",
        "# Create a dataframe that will contain the names of all the feature variables and their respective VIFs\n",
        "vif = pd.DataFrame()\n",
        "vif['Features'] = X_train_new.columns\n",
        "vif['VIF'] = [variance_inflation_factor(X_train_new.values, i) for i in range(X_train_new.shape[1])]\n",
        "vif['VIF'] = round(vif['VIF'], 2)\n",
        "vif = vif.sort_values(by = \"VIF\", ascending = False)\n",
        "vif"
      ],
      "metadata": {
        "trusted": true,
        "id": "QjCF9n07s3Tv"
      },
      "execution_count": null,
      "outputs": []
    },
    {
      "cell_type": "code",
      "source": [
        "# Add a constant\n",
        "X_train_lm2 = sm.add_constant(X_train_new)\n",
        "\n",
        "# Create a first fitted model\n",
        "lr2 = sm.OLS(y_train, X_train_lm2).fit()"
      ],
      "metadata": {
        "trusted": true,
        "id": "2uPbxCbss3Tw"
      },
      "execution_count": null,
      "outputs": []
    },
    {
      "cell_type": "code",
      "source": [
        "# Check the parameters obtained\n",
        "\n",
        "lr2.params"
      ],
      "metadata": {
        "trusted": true,
        "id": "I_NpylQLs3Tw"
      },
      "execution_count": null,
      "outputs": []
    },
    {
      "cell_type": "code",
      "source": [
        "# Print a summary of the linear regression model obtained\n",
        "print(lr2.summary())"
      ],
      "metadata": {
        "trusted": true,
        "id": "6XbP3yHrs3Tx"
      },
      "execution_count": null,
      "outputs": []
    },
    {
      "cell_type": "markdown",
      "source": [
        "## Model 3"
      ],
      "metadata": {
        "id": "fUXVnkkbs3Tx"
      }
    },
    {
      "cell_type": "markdown",
      "source": [
        " - Removing the variable 'hum' based on its Very High 'VIF' value.\n",
        " - Even though the VIF of hum is second highest, we decided to drop 'hum' and not 'temp' based on general knowledge that temperature can be an important factor for a business like bike rentals, and wanted to retain 'temp'."
      ],
      "metadata": {
        "id": "YTQR4IDEs3Tx"
      }
    },
    {
      "cell_type": "code",
      "source": [
        "X_train_new = X_train_new.drop([\"hum\"], axis = 1)"
      ],
      "metadata": {
        "trusted": true,
        "id": "SAXeSrLhs3Ty"
      },
      "execution_count": null,
      "outputs": []
    },
    {
      "cell_type": "markdown",
      "source": [
        "### VIF Check"
      ],
      "metadata": {
        "id": "c581RyzHs3Ty"
      }
    },
    {
      "cell_type": "code",
      "source": [
        "# Check for the VIF values of the feature variables.\n",
        "from statsmodels.stats.outliers_influence import variance_inflation_factor\n",
        "\n",
        "# Create a dataframe that will contain the names of all the feature variables and their respective VIFs\n",
        "vif = pd.DataFrame()\n",
        "vif['Features'] = X_train_new.columns\n",
        "vif['VIF'] = [variance_inflation_factor(X_train_new.values, i) for i in range(X_train_new.shape[1])]\n",
        "vif['VIF'] = round(vif['VIF'], 2)\n",
        "vif = vif.sort_values(by = \"VIF\", ascending = False)\n",
        "vif"
      ],
      "metadata": {
        "trusted": true,
        "id": "BorhGmASs3Ty"
      },
      "execution_count": null,
      "outputs": []
    },
    {
      "cell_type": "code",
      "source": [
        "# Add a constant\n",
        "X_train_lm3 = sm.add_constant(X_train_new)\n",
        "\n",
        "# Create a first fitted model\n",
        "lr3 = sm.OLS(y_train, X_train_lm3).fit()"
      ],
      "metadata": {
        "trusted": true,
        "id": "jgvCsDdIs3Tz"
      },
      "execution_count": null,
      "outputs": []
    },
    {
      "cell_type": "code",
      "source": [
        "lr3.params"
      ],
      "metadata": {
        "trusted": true,
        "id": "MdpXTKros3Tz"
      },
      "execution_count": null,
      "outputs": []
    },
    {
      "cell_type": "code",
      "source": [
        "# Print a summary of the linear regression model obtained\n",
        "print(lr3.summary())"
      ],
      "metadata": {
        "trusted": true,
        "id": "VDVvhFjOs3T0"
      },
      "execution_count": null,
      "outputs": []
    },
    {
      "cell_type": "markdown",
      "source": [
        "## Model 4"
      ],
      "metadata": {
        "id": "n65rrc9Ds3T0"
      }
    },
    {
      "cell_type": "markdown",
      "source": [
        "- Removing the variable 'season3' based on its Very High 'VIF' value.\n",
        "- Even though the VIF of season3 is second highest, we decided to drop 'season3' and not 'temp' based on general knowledge that temperature can be an important factor for a business like bike rentals, and wanted to retain 'temp'."
      ],
      "metadata": {
        "id": "vxP5c_MDs3T0"
      }
    },
    {
      "cell_type": "code",
      "source": [
        "X_train_new = X_train_new.drop([\"season_3\"], axis = 1)"
      ],
      "metadata": {
        "trusted": true,
        "id": "FtHKJjbts3T0"
      },
      "execution_count": null,
      "outputs": []
    },
    {
      "cell_type": "markdown",
      "source": [
        "### VIF Check"
      ],
      "metadata": {
        "id": "sdERnMx1s3T1"
      }
    },
    {
      "cell_type": "code",
      "source": [
        "# Check for the VIF values of the feature variables.\n",
        "from statsmodels.stats.outliers_influence import variance_inflation_factor\n",
        "\n",
        "# Create a dataframe that will contain the names of all the feature variables and their respective VIFs\n",
        "vif = pd.DataFrame()\n",
        "vif['Features'] = X_train_new.columns\n",
        "vif['VIF'] = [variance_inflation_factor(X_train_new.values, i) for i in range(X_train_new.shape[1])]\n",
        "vif['VIF'] = round(vif['VIF'], 2)\n",
        "vif = vif.sort_values(by = \"VIF\", ascending = False)\n",
        "vif"
      ],
      "metadata": {
        "trusted": true,
        "id": "HhtmCl4fs3T1"
      },
      "execution_count": null,
      "outputs": []
    },
    {
      "cell_type": "code",
      "source": [
        "# Add a constant\n",
        "X_train_lm4 = sm.add_constant(X_train_new)\n",
        "\n",
        "# Create a first fitted model\n",
        "lr4 = sm.OLS(y_train, X_train_lm4).fit()"
      ],
      "metadata": {
        "trusted": true,
        "id": "ZJ1t_brNs3T1"
      },
      "execution_count": null,
      "outputs": []
    },
    {
      "cell_type": "code",
      "source": [
        "# Check the parameters obtained\n",
        "\n",
        "lr4.params"
      ],
      "metadata": {
        "trusted": true,
        "id": "RfZm5U1Ds3T1"
      },
      "execution_count": null,
      "outputs": []
    },
    {
      "cell_type": "code",
      "source": [
        "# Print a summary of the linear regression model obtained\n",
        "print(lr4.summary())"
      ],
      "metadata": {
        "trusted": true,
        "id": "a0-kvYUGs3T2"
      },
      "execution_count": null,
      "outputs": []
    },
    {
      "cell_type": "markdown",
      "source": [
        "## Model 5"
      ],
      "metadata": {
        "id": "0S4TJmYis3T2"
      }
    },
    {
      "cell_type": "markdown",
      "source": [
        "- Removing the variable 'mnth_10' based on its Very High p-value."
      ],
      "metadata": {
        "id": "QazO2Sw2s3T2"
      }
    },
    {
      "cell_type": "code",
      "source": [
        "X_train_new = X_train_new.drop([\"mnth_10\"], axis = 1)"
      ],
      "metadata": {
        "trusted": true,
        "id": "BPS-kGZjs3T2"
      },
      "execution_count": null,
      "outputs": []
    },
    {
      "cell_type": "markdown",
      "source": [
        "### VIF Check"
      ],
      "metadata": {
        "id": "obTvjQ0bs3T2"
      }
    },
    {
      "cell_type": "code",
      "source": [
        "# Check for the VIF values of the feature variables.\n",
        "from statsmodels.stats.outliers_influence import variance_inflation_factor\n",
        "\n",
        "# Create a dataframe that will contain the names of all the feature variables and their respective VIFs\n",
        "vif = pd.DataFrame()\n",
        "vif['Features'] = X_train_new.columns\n",
        "vif['VIF'] = [variance_inflation_factor(X_train_new.values, i) for i in range(X_train_new.shape[1])]\n",
        "vif['VIF'] = round(vif['VIF'], 2)\n",
        "vif = vif.sort_values(by = \"VIF\", ascending = False)\n",
        "vif"
      ],
      "metadata": {
        "trusted": true,
        "id": "v_pjNqhqs3T3"
      },
      "execution_count": null,
      "outputs": []
    },
    {
      "cell_type": "code",
      "source": [
        "# Add a constant\n",
        "X_train_lm5 = sm.add_constant(X_train_new)\n",
        "\n",
        "# Create a first fitted model\n",
        "lr5 = sm.OLS(y_train, X_train_lm5).fit()"
      ],
      "metadata": {
        "trusted": true,
        "id": "Jg1dLELgs3T3"
      },
      "execution_count": null,
      "outputs": []
    },
    {
      "cell_type": "code",
      "source": [
        "# Check the parameters obtained\n",
        "\n",
        "lr5.params"
      ],
      "metadata": {
        "trusted": true,
        "id": "Iym9ssc-s3T3"
      },
      "execution_count": null,
      "outputs": []
    },
    {
      "cell_type": "code",
      "source": [
        "# Print a summary of the linear regression model obtained\n",
        "print(lr5.summary())"
      ],
      "metadata": {
        "trusted": true,
        "id": "fwdplMCTs3T4"
      },
      "execution_count": null,
      "outputs": []
    },
    {
      "cell_type": "markdown",
      "source": [
        "## Model 6"
      ],
      "metadata": {
        "id": "xxFcnmSWs3T4"
      }
    },
    {
      "cell_type": "markdown",
      "source": [
        "- Removing the variable 'mnth_3' based on its High 'p-value'."
      ],
      "metadata": {
        "id": "oSh7vBkQs3T4"
      }
    },
    {
      "cell_type": "code",
      "source": [
        "X_train_new = X_train_new.drop([\"mnth_3\"], axis = 1)"
      ],
      "metadata": {
        "trusted": true,
        "id": "CMxqONxIs3T4"
      },
      "execution_count": null,
      "outputs": []
    },
    {
      "cell_type": "markdown",
      "source": [
        "### VIF Check"
      ],
      "metadata": {
        "id": "imIPZa5rs3T5"
      }
    },
    {
      "cell_type": "code",
      "source": [
        "# Check for the VIF values of the feature variables.\n",
        "from statsmodels.stats.outliers_influence import variance_inflation_factor\n",
        "\n",
        "# Create a dataframe that will contain the names of all the feature variables and their respective VIFs\n",
        "vif = pd.DataFrame()\n",
        "vif['Features'] = X_train_new.columns\n",
        "vif['VIF'] = [variance_inflation_factor(X_train_new.values, i) for i in range(X_train_new.shape[1])]\n",
        "vif['VIF'] = round(vif['VIF'], 2)\n",
        "vif = vif.sort_values(by = \"VIF\", ascending = False)\n",
        "vif"
      ],
      "metadata": {
        "trusted": true,
        "id": "V9gMe8m7s3T5"
      },
      "execution_count": null,
      "outputs": []
    },
    {
      "cell_type": "code",
      "source": [
        "# Add a constant\n",
        "X_train_lm6 = sm.add_constant(X_train_new)\n",
        "\n",
        "# Create a first fitted model\n",
        "lr6 = sm.OLS(y_train, X_train_lm6).fit()"
      ],
      "metadata": {
        "trusted": true,
        "id": "jRpUb0_9s3T5"
      },
      "execution_count": null,
      "outputs": []
    },
    {
      "cell_type": "code",
      "source": [
        "# Check the parameters obtained\n",
        "\n",
        "lr6.params"
      ],
      "metadata": {
        "trusted": true,
        "id": "hnta3WCis3T5"
      },
      "execution_count": null,
      "outputs": []
    },
    {
      "cell_type": "code",
      "source": [
        "# Print a summary of the linear regression model obtained\n",
        "print(lr6.summary())"
      ],
      "metadata": {
        "trusted": true,
        "id": "861Yw41Ms3T6"
      },
      "execution_count": null,
      "outputs": []
    },
    {
      "cell_type": "markdown",
      "source": [
        "### Insights\n",
        "- This model looks good, as there seems to be VERY LOW Multicollinearity between the predictors and the p-values for all the predictors seems to be significant. For now, we will consider this as our final model (unless the Test data metrics are not significantly close to this number)."
      ],
      "metadata": {
        "id": "c9VhFXg3s3T6"
      }
    },
    {
      "cell_type": "markdown",
      "source": [
        "# Final Model Interpretation"
      ],
      "metadata": {
        "id": "GFa8EgvRs3T7"
      }
    },
    {
      "cell_type": "markdown",
      "source": [
        "## Hypothesis Testing:"
      ],
      "metadata": {
        "id": "preM3UfHs3T7"
      }
    },
    {
      "cell_type": "markdown",
      "source": [
        "Hypothesis testing states that:\n",
        "- H0:B1=B2=...=Bn=0\n",
        "- H1:  at least one  Bi!=0"
      ],
      "metadata": {
        "id": "g_TV7K_Js3T7"
      }
    },
    {
      "cell_type": "markdown",
      "source": [
        "### lr6 model coefficient values"
      ],
      "metadata": {
        "id": "00S9Cbxhs3T7"
      }
    },
    {
      "cell_type": "markdown",
      "source": [
        "- const 0.084143\n",
        "- yr 0.230846\n",
        "- workingday 0.043203\n",
        "- temp 0.563615\n",
        "- windspeed -0.155191\n",
        "- season_2 0.082706\n",
        "- season_4 0.128744\n",
        "- mnth_9 0.094743\n",
        "- weekday_6 0.056909\n",
        "- weathersit_2 -0.074807\n",
        "- weathersit_3 -0.306992"
      ],
      "metadata": {
        "id": "CvoOu5kNs3T8"
      }
    },
    {
      "cell_type": "markdown",
      "source": [
        "### Insights\n",
        "- From the lr6 model summary, it is evident that all our coefficients are not equal to zerowhich means **We REJECT the NULL HYPOTHESIS**\n",
        "    "
      ],
      "metadata": {
        "id": "AmSvwCf_s3T8"
      }
    },
    {
      "cell_type": "markdown",
      "source": [
        "### F Statistics"
      ],
      "metadata": {
        "id": "5D6nUdgvs3T8"
      }
    },
    {
      "cell_type": "markdown",
      "source": [
        "F-Statistics is used for testing the overall significance of the Model: Higher the F-Statistics, more significant the Model is.\n",
        "\n",
        "- F-statistic: 233.8\n",
        "- Prob (F-statistic): 3.77e-181\n",
        "\n",
        "The F-Statistics value of 233 (which is greater than 1) and the p-value of '~0.0000' states that the overall model is significant"
      ],
      "metadata": {
        "id": "uEnm-77fs3T8"
      }
    },
    {
      "cell_type": "markdown",
      "source": [
        "## The equation of best fitted surface based on model lr6:"
      ],
      "metadata": {
        "id": "gjUY2mbEs3T9"
      }
    },
    {
      "cell_type": "markdown",
      "source": [
        "cnt = 0.084143 + (**yr** × 0.230846) + (**workingday** × 0.043203) + (**temp** × 0.563615) − (**windspeed** × 0.155191) + (**season2** × 0.082706) + (**season4** ×0.128744) + (**mnth9** × 0.094743) + (**weekday6** ×0.056909) − (**weathersit2** × 0.074807) − (**weathersit3** × 0.306992)"
      ],
      "metadata": {
        "id": "9Nit6q-3s3T9"
      }
    },
    {
      "cell_type": "markdown",
      "source": [
        "## Interpretation of Coefficients:\n",
        "**temp:** A coefficient value of ‘0.5636’ indicated that a unit increase in temp variable, increases the bike hire numbers by 0.5636 units.\n",
        "\n",
        "**weathersit_3:** A coefficient value of ‘-0.3070’ indicated that, w.r.t Weathersit1, a unit increase in Weathersit3 variable, decreases the bike hire numbers by 0.3070 units.\n",
        "\n",
        "**yr:** A coefficient value of ‘0.2308’ indicated that a unit increase in yr variable, increases the bike hire numbers by 0.2308 units.\n",
        "\n",
        "**season_4:** A coefficient value of ‘0.128744’ indicated that w.r.t season_1, a unit increase in season_4 variable increases the bike hire numbers by 0.128744 units.\n",
        "\n",
        "**windspeed:** A coefficient value of ‘-0.155191’ indicated that, a unit increase in windspeed variable decreases the bike hire numbers by 0.155191 units.\n",
        "\n",
        "**workingday:** A coefficient value of ‘0.043203’ indicated that, a unit increase in workingday variable increases the bike hire numbers by 0.043203 units.\n",
        "\n",
        "**season_2:** A coefficient value of ‘0.082706’ indicated that w.r.t season_1, a unit increase in season_2 variable decreases the bike hire numbers by 0.082706 units.\n",
        "\n",
        "**mnth_9:** A coefficient value of ‘0.094743’ indicated that w.r.t mnth_1, a unit increase in mnth_9 variable increases the bike hire numbers by 0.094743 units.\n",
        "\n",
        "**weekday_6:** A coefficient value of ‘0.056909’ indicated that w.r.t weekday_1, a unit increase in weekday_6 variable increases the bike hire numbers by 0.056909 units.\n",
        "\n",
        "**weathersit_2:** A coefficient value of ‘-0.074807’ indicated that, w.r.t Weathersit1, a unit increase in Weathersit2 variable, decreases the bike hire numbers by 0.074807 units.\n",
        "\n",
        "**const:** The Constant value of ‘0.084143’ indicated that, in the absence of all other predictor variables (i.e. when x1,x2...xn =0), The bike rental can still increase by 0.084143 units."
      ],
      "metadata": {
        "id": "Mptwqgz5s3T9"
      }
    },
    {
      "cell_type": "markdown",
      "source": [
        "# ASSUMPTIONS"
      ],
      "metadata": {
        "id": "imYf2btds3T-"
      }
    },
    {
      "cell_type": "markdown",
      "source": [
        "## Error terms are normally distributed with mean zero (not X, Y)\n",
        "- Residual Analysis Of Training Data"
      ],
      "metadata": {
        "id": "OdAuIvYms3T-"
      }
    },
    {
      "cell_type": "code",
      "source": [
        "y_train_pred = lr6.predict(X_train_lm6)"
      ],
      "metadata": {
        "trusted": true,
        "id": "r87_W2mws3T-"
      },
      "execution_count": null,
      "outputs": []
    },
    {
      "cell_type": "code",
      "source": [
        "res = y_train-y_train_pred\n",
        "# Plot the histogram of the error terms\n",
        "fig = plt.figure()\n",
        "sns.distplot((res), bins = 20)\n",
        "fig.suptitle('Error Terms', fontsize = 20)                  # Plot heading\n",
        "plt.xlabel('Errors', fontsize = 18)                         # X-label"
      ],
      "metadata": {
        "trusted": true,
        "id": "Pfg_UUQ4s3T_"
      },
      "execution_count": null,
      "outputs": []
    },
    {
      "cell_type": "markdown",
      "source": [
        "### Insights\n",
        "- From the above histogram, we could see that the Residuals are normally distributed. Hence our assumption for Linear Regression is valid."
      ],
      "metadata": {
        "id": "U-DcPdKXs3T_"
      }
    },
    {
      "cell_type": "markdown",
      "source": [
        "## There is a linear relationship between X and Y"
      ],
      "metadata": {
        "id": "ra5x0uqFs3T_"
      }
    },
    {
      "cell_type": "code",
      "source": [
        "bike_new=bike_new[[ 'temp', 'atemp', 'hum', 'windspeed','cnt']]\n",
        "\n",
        "sns.pairplot(bike_num, diag_kind='kde')\n",
        "plt.show()"
      ],
      "metadata": {
        "trusted": true,
        "id": "5SHRQpJBs3T_"
      },
      "execution_count": null,
      "outputs": []
    },
    {
      "cell_type": "markdown",
      "source": [
        "## Insight\n",
        "- Using the pair plot, we could see there is a linear relation between temp and atemp variable with the predictor ‘cnt’."
      ],
      "metadata": {
        "id": "TSf6oXtts3UA"
      }
    },
    {
      "cell_type": "markdown",
      "source": [
        "## There is No Multicollinearity between the predictor variables"
      ],
      "metadata": {
        "id": "adqIrcums3UA"
      }
    },
    {
      "cell_type": "code",
      "source": [
        "# Check for the VIF values of the feature variables.\n",
        "from statsmodels.stats.outliers_influence import variance_inflation_factor\n",
        "\n",
        "# Create a dataframe that will contain the names of all the feature variables and their respective VIFs\n",
        "vif = pd.DataFrame()\n",
        "vif['Features'] = X_train_new.columns\n",
        "vif['VIF'] = [variance_inflation_factor(X_train_new.values, i) for i in range(X_train_new.shape[1])]\n",
        "vif['VIF'] = round(vif['VIF'], 2)\n",
        "vif = vif.sort_values(by = \"VIF\", ascending = False)\n",
        "vif"
      ],
      "metadata": {
        "trusted": true,
        "id": "gmcSINjQs3UA"
      },
      "execution_count": null,
      "outputs": []
    },
    {
      "cell_type": "markdown",
      "source": [
        "## Insight\n",
        "\n",
        " - From the VIF calculation we could find that there is no multicollinearity existing between the predictor variables, as all the values are within permissible range of below 5"
      ],
      "metadata": {
        "id": "0GdLtrD9s3UA"
      }
    },
    {
      "cell_type": "markdown",
      "source": [
        "# MAKING PREDICTION USING FINAL MODEL\n",
        "\n",
        "Now that we have fitted the model and checked the assumptions, it's time to go ahead and make predictions using the final model (lr6)\n",
        "\n",
        "### Applying the scaling on the test sets"
      ],
      "metadata": {
        "id": "kjo28kh8s3UB"
      }
    },
    {
      "cell_type": "code",
      "source": [
        "# Apply scaler() to all numeric variables in test dataset. Note: we will only use scaler.transform,\n",
        "# as we want to use the metrics that the model learned from the training data to be applied on the test data.\n",
        "# In other words, we want to prevent the information leak from train to test dataset.\n",
        "\n",
        "num_vars = ['temp', 'atemp', 'hum', 'windspeed','cnt']\n",
        "\n",
        "df_test[num_vars] = scaler.transform(df_test[num_vars])"
      ],
      "metadata": {
        "trusted": true,
        "id": "KNOnuL3ts3UB"
      },
      "execution_count": null,
      "outputs": []
    },
    {
      "cell_type": "code",
      "source": [
        "df_test.head()"
      ],
      "metadata": {
        "trusted": true,
        "id": "8Vf1rUgys3UC"
      },
      "execution_count": null,
      "outputs": []
    },
    {
      "cell_type": "code",
      "source": [
        "df_test.describe()"
      ],
      "metadata": {
        "trusted": true,
        "id": "ztCsXLFXs3UC"
      },
      "execution_count": null,
      "outputs": []
    },
    {
      "cell_type": "markdown",
      "source": [
        "### Dividing into X_test and y_test"
      ],
      "metadata": {
        "id": "wHBNISgns3UD"
      }
    },
    {
      "cell_type": "code",
      "source": [
        "y_test = df_test.pop('cnt')\n",
        "X_test = df_test\n",
        "X_test.info()"
      ],
      "metadata": {
        "trusted": true,
        "id": "L3pXkMsRs3UD"
      },
      "execution_count": null,
      "outputs": []
    },
    {
      "cell_type": "code",
      "source": [
        "#Selecting the variables that were part of final model.\n",
        "col1=X_train_new.columns\n",
        "X_test=X_test[col1]\n",
        "# Adding constant variable to test dataframe\n",
        "X_test_lm6 = sm.add_constant(X_test)\n",
        "X_test_lm6.info()"
      ],
      "metadata": {
        "trusted": true,
        "id": "-h0Xevd5s3UD"
      },
      "execution_count": null,
      "outputs": []
    },
    {
      "cell_type": "code",
      "source": [
        "# Making predictions using the final model (lr6)\n",
        "\n",
        "y_pred = lr6.predict(X_test_lm6)"
      ],
      "metadata": {
        "trusted": true,
        "id": "ykRGihJfs3UE"
      },
      "execution_count": null,
      "outputs": []
    },
    {
      "cell_type": "markdown",
      "source": [
        "# MODEL EVALUATION"
      ],
      "metadata": {
        "id": "5JDDxJ09s3UE"
      }
    },
    {
      "cell_type": "code",
      "source": [
        "# Plotting y_test and y_pred to understand the spread\n",
        "\n",
        "fig = plt.figure()\n",
        "plt.scatter(y_test, y_pred, alpha=.5)\n",
        "fig.suptitle('y_test vs y_pred', fontsize = 20)              # Plot heading\n",
        "plt.xlabel('y_test', fontsize = 18)                          # X-label\n",
        "plt.ylabel('y_pred', fontsize = 16)\n",
        "plt.show()"
      ],
      "metadata": {
        "trusted": true,
        "id": "n1C2bOV2s3UE"
      },
      "execution_count": null,
      "outputs": []
    },
    {
      "cell_type": "markdown",
      "source": [
        " # R^2 Value for TEST"
      ],
      "metadata": {
        "id": "8A_p5HIss3UE"
      }
    },
    {
      "cell_type": "code",
      "source": [
        "from sklearn.metrics import r2_score\n",
        "r2_score(y_test, y_pred)"
      ],
      "metadata": {
        "trusted": true,
        "id": "MePm4m5Js3UF"
      },
      "execution_count": null,
      "outputs": []
    },
    {
      "cell_type": "markdown",
      "source": [
        "## Adjusted R^2 Value for TEST"
      ],
      "metadata": {
        "id": "-oBEBpzJs3UF"
      }
    },
    {
      "cell_type": "code",
      "source": [
        "# We already have the value of R^2 (calculated in above step)\n",
        "\n",
        "r2=0.8203092200749708"
      ],
      "metadata": {
        "trusted": true,
        "id": "F9M_Kxnds3UF"
      },
      "execution_count": null,
      "outputs": []
    },
    {
      "cell_type": "code",
      "source": [
        "# Get the shape of X_test\n",
        "X_test.shape\n"
      ],
      "metadata": {
        "trusted": true,
        "id": "WqoVb77es3UF"
      },
      "execution_count": null,
      "outputs": []
    },
    {
      "cell_type": "code",
      "source": [
        "# n is number of rows in X\n",
        "\n",
        "n = X_test.shape[0]\n",
        "\n",
        "\n",
        "# Number of features (predictors, p) is the shape along axis 1\n",
        "p = X_test.shape[1]\n",
        "\n",
        "# We find the Adjusted R-squared using the formula\n",
        "\n",
        "adjusted_r2 = 1-(1-r2)*(n-1)/(n-p-1)\n",
        "adjusted_r2"
      ],
      "metadata": {
        "trusted": true,
        "id": "A6zJq8DJs3UG"
      },
      "execution_count": null,
      "outputs": []
    },
    {
      "cell_type": "markdown",
      "source": [
        "# Final Result Comparison"
      ],
      "metadata": {
        "id": "YXw4GQ8fs3UG"
      }
    },
    {
      "cell_type": "markdown",
      "source": [
        "- Train R^2 :0.824\n",
        "- Train Adjusted R^2 :0.821\n",
        "- Test R^2 :0.820\n",
        "- Test Adjusted R^2 :0.812\n",
        "- This seems to be a really good model that can very well 'Generalize' various datasets."
      ],
      "metadata": {
        "id": "XxNdATFts3UH"
      }
    },
    {
      "cell_type": "markdown",
      "source": [
        "# FINAL REPORT"
      ],
      "metadata": {
        "id": "oumLJyIqs3UH"
      }
    },
    {
      "cell_type": "markdown",
      "source": [
        "As per our final Model, the top 3 predictor variables that influences the bike booking are:\n",
        "- **Temperature (temp)** - A coefficient value of ‘0.5636’ indicated that a unit increase in temp variable increases the bike hire numbers by 0.5636 units.\n",
        "- **Weather Situation 3 (weathersit_3)** - A coefficient value of ‘-0.3070’ indicated that, w.r.t Weathersit1, a unit increase in Weathersit3 variable decreases the bike hire numbers by 0.3070 units.\n",
        "- **Year (yr)** - A coefficient value of ‘0.2308’ indicated that a unit increase in yr variable increases the bike hire numbers by 0.2308 units.\n",
        "\n",
        "#### So, it's suggested to consider these variables utmost importance while planning, to achive maximum Booking\n",
        "\n",
        "The next best features that can also be considered are\n",
        "- **season_4:** - A coefficient value of ‘0.128744’ indicated that w.r.t season_1, a unit increase in season_4 variable increases the bike hire numbers by 0.128744 units.\n",
        "- **windspeed:** - A coefficient value of ‘-0.155191’ indicated that, a unit increase in windspeed variable decreases the bike hire numbers by 0.155191 units.\n",
        "\n",
        " #### NOTE:\n",
        " - The details of weathersit_1 & weathersit_3\n",
        " - **weathersit_1:** Clear, Few clouds, Partly cloudy, Partly cloudy\n",
        " - **weathersit_3:** Light Snow, Light Rain + Thunderstorm + Scattered clouds, Light Rain + Scattered clouds\n",
        "\n",
        "\n",
        " The details of season1 & season4\n",
        " - **season1:** spring\n",
        " - **season4:** winter"
      ],
      "metadata": {
        "id": "F2ZLRzD8s3UH"
      }
    }
  ]
}